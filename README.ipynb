{
 "cells": [
  {
   "cell_type": "markdown",
   "metadata": {},
   "source": [
    "# k-means\n",
    "\n",
    "[![DOI](https://zenodo.org/badge/758296748.svg)](https://zenodo.org/doi/10.5281/zenodo.10668916)\n"
   ]
  },
  {
   "cell_type": "markdown",
   "metadata": {},
   "source": [
    "## Resumo\n",
    "\n",
    "A aplicação de computação para o algoritmo k-means é uma técnica de agrupamento não supervisionado que organiza os dados em agrupamentos com base na similaridade. Ele atribui iterativamente pontos de dados aos centróides e recalcula os centróides com base na média dos pontos atribuídos até que a variação entre pontos e centróides seja minimizada.\n",
    "\n",
    "## _Abstract_\n",
    "\n",
    "_Computation application for the k-means algorithm is an unsupervised clustering technique that organizes data into clusters based on similarity. It iteratively assigns data points to centroids and recalculates centroids based on the average of assigned points until the variance between points and centroids is minimized._"
   ]
  },
  {
   "cell_type": "markdown",
   "metadata": {},
   "source": [
    "## Revisão(ões)/Versão(ões)\n",
    "\n",
    "| Revisão número | Data da revisão | Descrição da revisão                                    | Autor da revisão                                |\n",
    "|:--------------:|:---------------:|:--------------------------------------------------------|:------------------------------------------------|\n",
    "| 0              | 15/09/2022      | <ul><li>Revisão inicial/criação do documento.</li></ul> | <ul><li>Eden Denis F. da S. L. Santos</li></ul> |\n"
   ]
  },
  {
   "cell_type": "markdown",
   "metadata": {},
   "source": [
    "## 1. Como executar a aplicação\n",
    "\n",
    "1. Abrir o arquivo `main_<nome_da_aplicacao>.py` o qual está com comentários, alterar o banco de dados (existem exemplos de bancos de dados) na pasta que deverá ser utilizado para a execução e executar todas as células. \n",
    "    \n",
    "    Perceber que o <nome_da_aplicacao> trata-se, redudantemente, do nome da aplicação. Coloquei desta forma, pois quis, por ora, generalizar o arquivo `README.md` para poder criar o repositório de cada uma das aplicações que desenvolvi ao longo da minha carreira."
   ]
  },
  {
   "cell_type": "markdown",
   "metadata": {},
   "source": [
    "## Referências\n",
    "\n",
    "[1] RICIERI, A. P. ***Curso de big data de lousa***. Prandiano - Museu da Matemática, São Paulo, 2018.\n",
    "\n",
    "[2] LINNAEUS, C. v. ***Systema naturae per regna tria naturae***. secundum classes, ordines, genera, species, cum characteribus, differentiis, synonymis, locis, 1758.\n",
    "\n",
    "[3] BAUMAN, Z. ***Liquid modernity***. Polity Press, 2000. ISBN 0745624103.\n",
    "\n",
    "[4] MACQUEEN, J. ***Methods for classification and analysis of multivariate observations***. volume 28: (1967), páginas 250–274. ISSN 0883-7252. doi:10.1002/jae.1272.\n",
    "\n",
    "[5] RUSSELL, S.; NORVIG, P. ***Artificial intelligence: a modern approach***. Prentice Hall, 2 edição, 2002. ISBN 978-0137903955.\n",
    "\n",
    "[6] BERK, K. N.; KHATTREE, R.; NAIK, D. ***Applied multivariate statistics with sas software***. volume 54, 2000. doi:10.2307/2686040.\n",
    "\n",
    "[7] ANDERBERG, M. R.. ***Cluster analysis for applications***. 1973.\n",
    "\n",
    "[8] MANKTELOW, M.. ***History of taxonomy***. Uppsala University, 2010.\n",
    "\n",
    "[9] ***An update of the angiosperm phylogeny group classification for the orders and families of the flowering plants***. Botanical Journal of The Linnean Society, volume 161: (2009), página 105. ISSN 0024-4074. doi:10.1111/j.1095-8339.2009.00996.x.\n",
    "\n",
    "[10] SILVA, B. M.; FREGNANI, J. A. T. G.; MAGALHÃES, P. E. C. S. ***Frontiers in aerospace science: conceptual design of green transport airplanes***. Bentham Book, 2018.\n",
    "\n",
    "[11] USUÁRIO:REI-ARTHUR. ***Airbus a380***. Disponível em: <https://pt.wikipedia.org/wiki/Airbus_A380>. Acessado em: 26/10/2018 09:55.\n",
    "\n",
    "[12] ***Os aviões com maior número de vítimas***. Disponível em: <https://www.terra.com.br/noticias/infograficos/ranking-desastres-aereos/05.htm>. Acessado em: 26/10/2018 13:04.\n",
    "\n",
    "[13] USUÁRIO:REI-ARTHUR. ***Embraer e-jets e2***. Disponível em: <https://pt.wikipedia.org/wiki/Embraer_E-Jets_E2>. Acessado em: 30/10/2018 09:56.\n",
    "\n",
    "[14] USUÁRIO:REI-ARTHUR. ***Lockheed martin f-22***. Disponível em: <https://pt.wikipedia.org/wiki/Lockheed_Martin_F-22>. Acessado em: 26/10/2018 16:37.\n",
    "\n",
    "[15] USUÁRIO:REI-ARTHUR. ***Embraer emb-314***. Disponível em: <https://pt.wikipedia.org/wiki/Embraer_EMB-314>. Acessado em: 30/10/2018 07:09.\n",
    "\n",
    "[16] USUÁRIO:REI-ARTHUR. ***North american p-51 mustang***. Disponível em: <https://pt.wikipedia.org/wiki/North_American_P-51_Mustang>. Acessado em: 30/10/2018 05:03.\n",
    "\n",
    "[17] KIUSALAAS, J.. ***Numerical methods in engineering with python***. 2nd ed. edição, 2010.\n",
    "\n",
    "[18] LANGTANGEN, H. P.. ***Python scripting for computational science***. Berlin Heidelberg, 3th ed. edição, 2009.\n",
    "\n",
    "[19] MCKINNEY, W.. ***Python para análise de dados: tratamento de dados com pandas, numpy e ipython***. São Paulo, 1a ed. edição, 2018.\n",
    "\n",
    "[20] TEAM, W. M. P. D.. ***Pandas: powerful python data analysis toolkit***. 2018.\n",
    "\n",
    "[21] RAMALHO, L.. ***Python fluente***. São Paulo, 1a ed. edição, 2018.\n",
    "\n",
    "[22] GRUS, J.. ***Data science do zero***. Rio de Janeiro, 1a ed. edição, 2009.\n",
    "\n",
    "[23] COMMUNITY. ***Scipy.cluster.hierarchy.dendrogram***. Disponível em: <https://docs.scipy.org/doc/scipy/reference/generated/scipy.cluster.hierarchy.dendrogram.html>. Acessado em: 2018-\n"
   ]
  },
  {
   "cell_type": "markdown",
   "metadata": {},
   "source": []
  }
 ],
 "metadata": {
  "kernelspec": {
   "display_name": "Python 3 (ipykernel)",
   "language": "python",
   "name": "python3"
  },
  "language_info": {
   "codemirror_mode": {
    "name": "ipython",
    "version": 3
   },
   "file_extension": ".py",
   "mimetype": "text/x-python",
   "name": "python",
   "nbconvert_exporter": "python",
   "pygments_lexer": "ipython3",
   "version": "3.11.5"
  }
 },
 "nbformat": 4,
 "nbformat_minor": 2
}
